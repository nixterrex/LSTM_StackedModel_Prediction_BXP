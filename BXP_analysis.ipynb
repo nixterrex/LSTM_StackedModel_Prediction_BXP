{
 "cells": [
  {
   "cell_type": "markdown",
   "id": "2fa73d1f",
   "metadata": {},
   "source": [
    "****Introduction****\n",
    "\n",
    "- objective: price prediction and forecasting for BXP (Boston Properties) using stacked LSTM (deep learning)\n",
    "\n",
    "***Note***: This uses code referenced from here (https://www.youtube.com/watch?v=H6du_pfuznE). Most or none is original code from me. Instead, this notebook is about practice and understanding deep learning methods"
   ]
  },
  {
   "cell_type": "markdown",
   "id": "653acadd",
   "metadata": {},
   "source": [
    "****Overview****\n",
    "\n",
    "Process\n",
    "1. collect data / read in data\n",
    "2. Preprocess the data (train and test split)\n",
    "    - Time series data needs special split\n",
    "    - \"special split\" involves using time steps to predict the next day's price\n",
    "    - normal train/test splits disregard order of date time\n",
    "3. Create a Stacked LSTM model\n",
    "4. Predict test data and plot output\n",
    "5. Predict the future 30 days and plot output"
   ]
  },
  {
   "cell_type": "markdown",
   "id": "7ad5cc21",
   "metadata": {},
   "source": [
    "****1. Collect Data / Read in Data****"
   ]
  },
  {
   "cell_type": "code",
   "execution_count": 17,
   "id": "d3e891e4",
   "metadata": {},
   "outputs": [],
   "source": [
    "# Importing the libraries\n",
    "import os\n",
    "import math\n",
    "import pandas as pd\n",
    "import numpy as np"
   ]
  },
  {
   "cell_type": "code",
   "execution_count": 9,
   "id": "d4975a86",
   "metadata": {},
   "outputs": [],
   "source": [
    "df = pd.read_csv('BXP.csv')"
   ]
  },
  {
   "cell_type": "code",
   "execution_count": 10,
   "id": "98c279eb",
   "metadata": {},
   "outputs": [
    {
     "data": {
      "text/html": [
       "<div>\n",
       "<style scoped>\n",
       "    .dataframe tbody tr th:only-of-type {\n",
       "        vertical-align: middle;\n",
       "    }\n",
       "\n",
       "    .dataframe tbody tr th {\n",
       "        vertical-align: top;\n",
       "    }\n",
       "\n",
       "    .dataframe thead th {\n",
       "        text-align: right;\n",
       "    }\n",
       "</style>\n",
       "<table border=\"1\" class=\"dataframe\">\n",
       "  <thead>\n",
       "    <tr style=\"text-align: right;\">\n",
       "      <th></th>\n",
       "      <th>Date</th>\n",
       "      <th>Open</th>\n",
       "      <th>High</th>\n",
       "      <th>Low</th>\n",
       "      <th>Close</th>\n",
       "      <th>Adj Close</th>\n",
       "      <th>Volume</th>\n",
       "    </tr>\n",
       "  </thead>\n",
       "  <tbody>\n",
       "    <tr>\n",
       "      <th>0</th>\n",
       "      <td>2020-09-14</td>\n",
       "      <td>83.989998</td>\n",
       "      <td>86.529999</td>\n",
       "      <td>83.989998</td>\n",
       "      <td>85.910004</td>\n",
       "      <td>82.503426</td>\n",
       "      <td>986200</td>\n",
       "    </tr>\n",
       "    <tr>\n",
       "      <th>1</th>\n",
       "      <td>2020-09-15</td>\n",
       "      <td>86.250000</td>\n",
       "      <td>89.559998</td>\n",
       "      <td>86.250000</td>\n",
       "      <td>87.769997</td>\n",
       "      <td>84.289665</td>\n",
       "      <td>1044500</td>\n",
       "    </tr>\n",
       "    <tr>\n",
       "      <th>2</th>\n",
       "      <td>2020-09-16</td>\n",
       "      <td>87.760002</td>\n",
       "      <td>90.680000</td>\n",
       "      <td>86.430000</td>\n",
       "      <td>89.930000</td>\n",
       "      <td>86.364014</td>\n",
       "      <td>1771100</td>\n",
       "    </tr>\n",
       "    <tr>\n",
       "      <th>3</th>\n",
       "      <td>2020-09-17</td>\n",
       "      <td>88.940002</td>\n",
       "      <td>89.910004</td>\n",
       "      <td>87.389999</td>\n",
       "      <td>87.870003</td>\n",
       "      <td>84.385696</td>\n",
       "      <td>1466900</td>\n",
       "    </tr>\n",
       "    <tr>\n",
       "      <th>4</th>\n",
       "      <td>2020-09-18</td>\n",
       "      <td>86.970001</td>\n",
       "      <td>87.540001</td>\n",
       "      <td>84.709999</td>\n",
       "      <td>84.870003</td>\n",
       "      <td>81.504669</td>\n",
       "      <td>2147300</td>\n",
       "    </tr>\n",
       "  </tbody>\n",
       "</table>\n",
       "</div>"
      ],
      "text/plain": [
       "         Date       Open       High        Low      Close  Adj Close   Volume\n",
       "0  2020-09-14  83.989998  86.529999  83.989998  85.910004  82.503426   986200\n",
       "1  2020-09-15  86.250000  89.559998  86.250000  87.769997  84.289665  1044500\n",
       "2  2020-09-16  87.760002  90.680000  86.430000  89.930000  86.364014  1771100\n",
       "3  2020-09-17  88.940002  89.910004  87.389999  87.870003  84.385696  1466900\n",
       "4  2020-09-18  86.970001  87.540001  84.709999  84.870003  81.504669  2147300"
      ]
     },
     "execution_count": 10,
     "metadata": {},
     "output_type": "execute_result"
    }
   ],
   "source": [
    "df.head()"
   ]
  },
  {
   "cell_type": "code",
   "execution_count": 21,
   "id": "d94e0d1c",
   "metadata": {},
   "outputs": [],
   "source": [
    "close_df = df.reset_index()['Close']"
   ]
  },
  {
   "cell_type": "code",
   "execution_count": 22,
   "id": "54645eb0",
   "metadata": {},
   "outputs": [
    {
     "data": {
      "text/plain": [
       "0    85.910004\n",
       "1    87.769997\n",
       "2    89.930000\n",
       "3    87.870003\n",
       "4    84.870003\n",
       "Name: Close, dtype: float64"
      ]
     },
     "execution_count": 22,
     "metadata": {},
     "output_type": "execute_result"
    }
   ],
   "source": [
    "close_df.head()"
   ]
  },
  {
   "cell_type": "code",
   "execution_count": 23,
   "id": "28f4b88b",
   "metadata": {},
   "outputs": [
    {
     "data": {
      "text/plain": [
       "(251,)"
      ]
     },
     "execution_count": 23,
     "metadata": {},
     "output_type": "execute_result"
    }
   ],
   "source": [
    "close_df.shape"
   ]
  },
  {
   "cell_type": "code",
   "execution_count": 24,
   "id": "f1f81fa6",
   "metadata": {},
   "outputs": [],
   "source": [
    "import matplotlib.pyplot as plt"
   ]
  },
  {
   "cell_type": "code",
   "execution_count": 28,
   "id": "3ede2934",
   "metadata": {
    "scrolled": true
   },
   "outputs": [
    {
     "data": {
      "image/png": "[encoded data removed]",
      "text/plain": [
       "<Figure size 432x288 with 1 Axes>"
      ]
     },
     "metadata": {
      "needs_background": "light"
     },
     "output_type": "display_data"
    }
   ],
   "source": [
    "plt.plot(close_df)\n",
    "plt.title('Close Prices')\n",
    "plt.ylabel('Price')\n",
    "plt.show()"
   ]
  },
  {
   "cell_type": "markdown",
   "id": "ec94a123",
   "metadata": {},
   "source": [
    "****2. Preprocessing data****"
   ]
  },
  {
   "cell_type": "code",
   "execution_count": 18,
   "id": "d3f6c80a",
   "metadata": {},
   "outputs": [],
   "source": [
    "# LSTM is sensitive to teh scale of the data ==> apply MinMax Scaler"
   ]
  },
  {
   "cell_type": "code",
   "execution_count": 19,
   "id": "6a355738",
   "metadata": {},
   "outputs": [],
   "source": [
    "import numpy as np"
   ]
  },
  {
   "cell_type": "code",
   "execution_count": 20,
   "id": "52cd32c2",
   "metadata": {},
   "outputs": [],
   "source": [
    "from sklearn.preprocessing import MinMaxScaler"
   ]
  },
  {
   "cell_type": "code",
   "execution_count": 29,
   "id": "4359f9f1",
   "metadata": {},
   "outputs": [],
   "source": [
    "scaler = MinMaxScaler(feature_range=(0,1))\n",
    "close_df = scaler.fit_transform(np.array(close_df).reshape(-1,1))"
   ]
  },
  {
   "cell_type": "code",
   "execution_count": 30,
   "id": "3a53a201",
   "metadata": {},
   "outputs": [
    {
     "data": {
      "text/plain": [
       "(251, 1)"
      ]
     },
     "execution_count": 30,
     "metadata": {},
     "output_type": "execute_result"
    }
   ],
   "source": [
    "close_df.shape"
   ]
  },
  {
   "cell_type": "code",
   "execution_count": 32,
   "id": "03cc6dd7",
   "metadata": {},
   "outputs": [
    {
     "data": {
      "text/plain": [
       "array([[0.2791226 ],\n",
       "       [0.31429644],\n",
       "       [0.3551437 ],\n",
       "       [0.31618763],\n",
       "       [0.2594554 ],\n",
       "       [0.18835098],\n",
       "       [0.1768154 ],\n",
       "       [0.14844929],\n",
       "       [0.15563532],\n",
       "       [0.17454606],\n",
       "       [0.21898642],\n",
       "       [0.17265502],\n",
       "       [0.17303331],\n",
       "       [0.22087747],\n",
       "       [0.26701959],\n",
       "       [0.25245837],\n",
       "       [0.22295765],\n",
       "       [0.21236754],\n",
       "       [0.24621779],\n",
       "       [0.21993188],\n",
       "       [0.21841898],\n",
       "       [0.16282149],\n",
       "       [0.15998486],\n",
       "       [0.15790466],\n",
       "       [0.12329796],\n",
       "       [0.09171706],\n",
       "       [0.09436455],\n",
       "       [0.09266266],\n",
       "       [0.11478819],\n",
       "       [0.12329796],\n",
       "       [0.0805598 ],\n",
       "       [0.04897875],\n",
       "       [0.        ],\n",
       "       [0.00926621],\n",
       "       [0.02382757],\n",
       "       [0.09266266],\n",
       "       [0.12764751],\n",
       "       [0.0631618 ],\n",
       "       [0.06788949],\n",
       "       [0.04273832],\n",
       "       [0.33320719],\n",
       "       [0.40431162],\n",
       "       [0.37159611],\n",
       "       [0.30143712],\n",
       "       [0.38710292],\n",
       "       [0.48127832],\n",
       "       [0.51645232],\n",
       "       [0.47220126],\n",
       "       [0.49678513],\n",
       "       [0.51493942],\n",
       "       [0.55295005],\n",
       "       [0.62934947],\n",
       "       [0.59001509],\n",
       "       [0.59152798],\n",
       "       [0.51077919],\n",
       "       [0.54236009],\n",
       "       [0.56543122],\n",
       "       [0.60854769],\n",
       "       [0.64618003],\n",
       "       [0.60136151],\n",
       "       [0.57318454],\n",
       "       [0.55465209],\n",
       "       [0.58150533],\n",
       "       [0.54519672],\n",
       "       [0.51720877],\n",
       "       [0.56448562],\n",
       "       [0.55881234],\n",
       "       [0.55351735],\n",
       "       [0.47201211],\n",
       "       [0.43305602],\n",
       "       [0.41111948],\n",
       "       [0.40563535],\n",
       "       [0.43078667],\n",
       "       [0.45366865],\n",
       "       [0.41868382],\n",
       "       [0.42965209],\n",
       "       [0.4421331 ],\n",
       "       [0.37197426],\n",
       "       [0.35816935],\n",
       "       [0.38332067],\n",
       "       [0.36119514],\n",
       "       [0.3572239 ],\n",
       "       [0.34871398],\n",
       "       [0.38407712],\n",
       "       [0.39599083],\n",
       "       [0.44251139],\n",
       "       [0.45385782],\n",
       "       [0.41868382],\n",
       "       [0.42378966],\n",
       "       [0.39391078],\n",
       "       [0.38105148],\n",
       "       [0.38067319],\n",
       "       [0.40790469],\n",
       "       [0.35117247],\n",
       "       [0.39277604],\n",
       "       [0.38048404],\n",
       "       [0.36081698],\n",
       "       [0.36592283],\n",
       "       [0.37575636],\n",
       "       [0.40223141],\n",
       "       [0.39655829],\n",
       "       [0.45763989],\n",
       "       [0.46955375],\n",
       "       [0.44478058],\n",
       "       [0.44969742],\n",
       "       [0.43400146],\n",
       "       [0.40790469],\n",
       "       [0.408472  ],\n",
       "       [0.38804836],\n",
       "       [0.39882748],\n",
       "       [0.47863083],\n",
       "       [0.56713311],\n",
       "       [0.6342663 ],\n",
       "       [0.59701212],\n",
       "       [0.52912248],\n",
       "       [0.56996976],\n",
       "       [0.57186079],\n",
       "       [0.63142967],\n",
       "       [0.56297272],\n",
       "       [0.5883132 ],\n",
       "       [0.69307873],\n",
       "       [0.65468981],\n",
       "       [0.66868385],\n",
       "       [0.68343421],\n",
       "       [0.70801808],\n",
       "       [0.67870652],\n",
       "       [0.65941749],\n",
       "       [0.66111953],\n",
       "       [0.65317704],\n",
       "       [0.62859302],\n",
       "       [0.59171713],\n",
       "       [0.58812405],\n",
       "       [0.59757942],\n",
       "       [0.63388801],\n",
       "       [0.67927383],\n",
       "       [0.60382   ],\n",
       "       [0.60249625],\n",
       "       [0.56940245],\n",
       "       [0.62613468],\n",
       "       [0.62159601],\n",
       "       [0.62613468],\n",
       "       [0.63445531],\n",
       "       [0.61875951],\n",
       "       [0.63521176],\n",
       "       [0.64372167],\n",
       "       [0.651475  ],\n",
       "       [0.6535552 ],\n",
       "       [0.6492058 ],\n",
       "       [0.64844936],\n",
       "       [0.66187598],\n",
       "       [0.66149767],\n",
       "       [0.68551441],\n",
       "       [0.65903933],\n",
       "       [0.65998493],\n",
       "       [0.68419066],\n",
       "       [0.69875186],\n",
       "       [0.6881619 ],\n",
       "       [0.72371404],\n",
       "       [0.72239028],\n",
       "       [0.69837372],\n",
       "       [0.70480329],\n",
       "       [0.66263241],\n",
       "       [0.68759459],\n",
       "       [0.69988661],\n",
       "       [0.70083206],\n",
       "       [0.68910734],\n",
       "       [0.61762477],\n",
       "       [0.65922848],\n",
       "       [0.70064291],\n",
       "       [0.73732979],\n",
       "       [0.78025727],\n",
       "       [0.72409233],\n",
       "       [0.74413767],\n",
       "       [0.77401669],\n",
       "       [0.82904687],\n",
       "       [0.81845689],\n",
       "       [0.84928136],\n",
       "       [0.86043878],\n",
       "       [0.87764748],\n",
       "       [0.92378973],\n",
       "       [0.95064294],\n",
       "       [0.92605907],\n",
       "       [0.92889557],\n",
       "       [0.9833586 ],\n",
       "       [0.96822993],\n",
       "       [0.96879724],\n",
       "       [0.97465966],\n",
       "       [0.98373674],\n",
       "       [1.        ],\n",
       "       [0.96161121],\n",
       "       [0.94459151],\n",
       "       [0.90979582],\n",
       "       [0.87197433],\n",
       "       [0.9167927 ],\n",
       "       [0.8814297 ],\n",
       "       [0.899584  ],\n",
       "       [0.90620274],\n",
       "       [0.92000764],\n",
       "       [0.86195166],\n",
       "       [0.80711048],\n",
       "       [0.82148254],\n",
       "       [0.82810141],\n",
       "       [0.84947051],\n",
       "       [0.85344175],\n",
       "       [0.8175113 ],\n",
       "       [0.79992431],\n",
       "       [0.87027229],\n",
       "       [0.89939485],\n",
       "       [0.8541982 ],\n",
       "       [0.86327541],\n",
       "       [0.85968233],\n",
       "       [0.85079424],\n",
       "       [0.74810891],\n",
       "       [0.84890321],\n",
       "       [0.86781395],\n",
       "       [0.81978064],\n",
       "       [0.82734498],\n",
       "       [0.83642204],\n",
       "       [0.8526853 ],\n",
       "       [0.88596824],\n",
       "       [0.89372172],\n",
       "       [0.87424353],\n",
       "       [0.85457633],\n",
       "       [0.84947051],\n",
       "       [0.82337372],\n",
       "       [0.86459916],\n",
       "       [0.88407721],\n",
       "       [0.87121788],\n",
       "       [0.8532526 ],\n",
       "       [0.88785928],\n",
       "       [0.87916036],\n",
       "       [0.88426635],\n",
       "       [0.8670575 ],\n",
       "       [0.84739031],\n",
       "       [0.79633136],\n",
       "       [0.78895619],\n",
       "       [0.79368388],\n",
       "       [0.80729948],\n",
       "       [0.81637671],\n",
       "       [0.80994711],\n",
       "       [0.77193648],\n",
       "       [0.79311642],\n",
       "       [0.77193648],\n",
       "       [0.79122539],\n",
       "       [0.83793494],\n",
       "       [0.82961417],\n",
       "       [0.80805593],\n",
       "       [0.80124806],\n",
       "       [0.80446298],\n",
       "       [0.76115738],\n",
       "       [0.69894102]])"
      ]
     },
     "execution_count": 32,
     "metadata": {},
     "output_type": "execute_result"
    }
   ],
   "source": [
    "close_df"
   ]
  },
  {
   "cell_type": "code",
   "execution_count": 37,
   "id": "94e6f0a7",
   "metadata": {},
   "outputs": [],
   "source": [
    "#splitting dataset into train and test data\n",
    "training_size=int(len(close_df)*0.70)\n",
    "test_size = len(close_df) - training_size\n",
    "train_data, test_data = close_df[0:training_size,:], close_df[training_size:len(close_df),:]"
   ]
  },
  {
   "cell_type": "code",
   "execution_count": 41,
   "id": "bdb9e77d",
   "metadata": {},
   "outputs": [],
   "source": [
    "# Convert array of values into a dataset matrix\n",
    "\n",
    "def create_dataset(dataset, time_steps=1):\n",
    "    dataX, dataY = [], []\n",
    "    for i in range(len(dataset)-time_step-1):\n",
    "        a = dataset[i:(i+time_step), 0]\n",
    "        dataX.append(a)\n",
    "        dataY.append(dataset[i + time_step, 0])\n",
    "    return np.array(dataX), np.array(dataY)"
   ]
  },
  {
   "cell_type": "code",
   "execution_count": 42,
   "id": "8f8118b0",
   "metadata": {},
   "outputs": [],
   "source": [
    "# reshape \n",
    "time_step = 30\n",
    "X_train, y_train = create_dataset(train_data, time_step)\n",
    "X_test, y_test = create_dataset(test_data, time_step)"
   ]
  },
  {
   "cell_type": "code",
   "execution_count": 44,
   "id": "a0b9178f",
   "metadata": {},
   "outputs": [
    {
     "data": {
      "text/plain": [
       "(144, 30)"
      ]
     },
     "execution_count": 44,
     "metadata": {},
     "output_type": "execute_result"
    }
   ],
   "source": [
    "X_train.shape"
   ]
  },
  {
   "cell_type": "code",
   "execution_count": 47,
   "id": "491ef0b1",
   "metadata": {},
   "outputs": [
    {
     "data": {
      "text/plain": [
       "(144,)"
      ]
     },
     "execution_count": 47,
     "metadata": {},
     "output_type": "execute_result"
    }
   ],
   "source": [
    "y_train.shape"
   ]
  },
  {
   "cell_type": "markdown",
   "id": "3aeccf52",
   "metadata": {},
   "source": [
    "****3. Create Stacked LSTM Model****"
   ]
  },
  {
   "cell_type": "code",
   "execution_count": 48,
   "id": "d590716d",
   "metadata": {},
   "outputs": [],
   "source": [
    "# reshaping input to be [samples, time steps, features] (required for LSTM)\n",
    "X_train = X_train.reshape(X_train.shape[0], X_train.shape[1], 1)\n",
    "X_test = X_test.reshape(X_test.shape[0], X_test.shape[1], 1)"
   ]
  },
  {
   "cell_type": "code",
   "execution_count": 51,
   "id": "be20fbad",
   "metadata": {},
   "outputs": [
    {
     "name": "stdout",
     "output_type": "stream",
     "text": [
      "Collecting tensorflowNote: you may need to restart the kernel to use updated packages.\n",
      "  Using cached tensorflow-2.6.0-cp38-cp38-win_amd64.whl (423.2 MB)\n",
      "Collecting opt-einsum~=3.3.0\n",
      "  Using cached opt_einsum-3.3.0-py3-none-any.whl (65 kB)\n",
      "Requirement already satisfied: numpy~=1.19.2 in c:\\users\\nikob\\anaconda3\\lib\\site-packages (from tensorflow) (1.19.5)\n",
      "Collecting h5py~=3.1.0\n",
      "  Using cached h5py-3.1.0-cp38-cp38-win_amd64.whl (2.7 MB)\n",
      "\n",
      "Collecting absl-py~=0.10\n",
      "  Using cached absl_py-0.13.0-py3-none-any.whl (132 kB)\n",
      "Requirement already satisfied: typing-extensions~=3.7.4 in c:\\users\\nikob\\anaconda3\\lib\\site-packages (from tensorflow) (3.7.4.3)\n",
      "Collecting keras-preprocessing~=1.1.2\n",
      "  Using cached Keras_Preprocessing-1.1.2-py2.py3-none-any.whl (42 kB)\n",
      "Requirement already satisfied: keras~=2.6 in c:\\users\\nikob\\anaconda3\\lib\\site-packages (from tensorflow) (2.6.0)\n",
      "Collecting termcolor~=1.1.0\n",
      "  Using cached termcolor-1.1.0-py3-none-any.whl\n",
      "Collecting astunparse~=1.6.3\n",
      "  Using cached astunparse-1.6.3-py2.py3-none-any.whl (12 kB)\n",
      "Collecting clang~=5.0\n",
      "  Using cached clang-5.0-py3-none-any.whl\n",
      "Collecting grpcio<2.0,>=1.37.0\n",
      "  Using cached grpcio-1.40.0-cp38-cp38-win_amd64.whl (3.2 MB)\n",
      "Requirement already satisfied: six~=1.15.0 in c:\\users\\nikob\\anaconda3\\lib\\site-packages (from tensorflow) (1.15.0)\n",
      "Collecting tensorboard~=2.6\n",
      "  Using cached tensorboard-2.6.0-py3-none-any.whl (5.6 MB)\n",
      "Collecting flatbuffers~=1.12.0\n",
      "  Using cached flatbuffers-1.12-py2.py3-none-any.whl (15 kB)\n",
      "Requirement already satisfied: wrapt~=1.12.1 in c:\\users\\nikob\\anaconda3\\lib\\site-packages (from tensorflow) (1.12.1)\n",
      "Collecting google-pasta~=0.2\n",
      "  Using cached google_pasta-0.2.0-py3-none-any.whl (57 kB)\n",
      "Requirement already satisfied: wheel~=0.35 in c:\\users\\nikob\\anaconda3\\lib\\site-packages (from tensorflow) (0.36.2)\n",
      "Requirement already satisfied: protobuf>=3.9.2 in c:\\users\\nikob\\anaconda3\\lib\\site-packages (from tensorflow) (3.17.3)\n",
      "Collecting gast==0.4.0\n",
      "  Using cached gast-0.4.0-py3-none-any.whl (9.8 kB)\n",
      "Collecting tensorflow-estimator~=2.6\n",
      "  Using cached tensorflow_estimator-2.6.0-py2.py3-none-any.whl (462 kB)\n",
      "Requirement already satisfied: werkzeug>=0.11.15 in c:\\users\\nikob\\anaconda3\\lib\\site-packages (from tensorboard~=2.6->tensorflow) (1.0.1)\n",
      "Collecting google-auth-oauthlib<0.5,>=0.4.1\n",
      "  Using cached google_auth_oauthlib-0.4.6-py2.py3-none-any.whl (18 kB)\n",
      "Collecting markdown>=2.6.8\n",
      "  Using cached Markdown-3.3.4-py3-none-any.whl (97 kB)\n",
      "Requirement already satisfied: google-auth<2,>=1.6.3 in c:\\users\\nikob\\anaconda3\\lib\\site-packages (from tensorboard~=2.6->tensorflow) (1.35.0)\n",
      "Requirement already satisfied: tensorboard-data-server<0.7.0,>=0.6.0 in c:\\users\\nikob\\anaconda3\\lib\\site-packages (from tensorboard~=2.6->tensorflow) (0.6.1)\n",
      "Requirement already satisfied: setuptools>=41.0.0 in c:\\users\\nikob\\anaconda3\\lib\\site-packages (from tensorboard~=2.6->tensorflow) (52.0.0.post20210125)\n",
      "Requirement already satisfied: tensorboard-plugin-wit>=1.6.0 in c:\\users\\nikob\\anaconda3\\lib\\site-packages (from tensorboard~=2.6->tensorflow) (1.8.0)\n",
      "Requirement already satisfied: requests<3,>=2.21.0 in c:\\users\\nikob\\anaconda3\\lib\\site-packages (from tensorboard~=2.6->tensorflow) (2.25.1)\n",
      "Requirement already satisfied: rsa<5,>=3.1.4 in c:\\users\\nikob\\anaconda3\\lib\\site-packages (from google-auth<2,>=1.6.3->tensorboard~=2.6->tensorflow) (4.7.2)\n",
      "Requirement already satisfied: pyasn1-modules>=0.2.1 in c:\\users\\nikob\\anaconda3\\lib\\site-packages (from google-auth<2,>=1.6.3->tensorboard~=2.6->tensorflow) (0.2.8)\n",
      "Requirement already satisfied: cachetools<5.0,>=2.0.0 in c:\\users\\nikob\\anaconda3\\lib\\site-packages (from google-auth<2,>=1.6.3->tensorboard~=2.6->tensorflow) (4.2.2)\n",
      "Requirement already satisfied: requests-oauthlib>=0.7.0 in c:\\users\\nikob\\anaconda3\\lib\\site-packages (from google-auth-oauthlib<0.5,>=0.4.1->tensorboard~=2.6->tensorflow) (1.3.0)\n",
      "Requirement already satisfied: pyasn1<0.5.0,>=0.4.6 in c:\\users\\nikob\\anaconda3\\lib\\site-packages (from pyasn1-modules>=0.2.1->google-auth<2,>=1.6.3->tensorboard~=2.6->tensorflow) (0.4.8)\n",
      "Requirement already satisfied: urllib3<1.27,>=1.21.1 in c:\\users\\nikob\\anaconda3\\lib\\site-packages (from requests<3,>=2.21.0->tensorboard~=2.6->tensorflow) (1.26.4)\n",
      "Requirement already satisfied: certifi>=2017.4.17 in c:\\users\\nikob\\anaconda3\\lib\\site-packages (from requests<3,>=2.21.0->tensorboard~=2.6->tensorflow) (2021.5.30)\n",
      "Requirement already satisfied: chardet<5,>=3.0.2 in c:\\users\\nikob\\anaconda3\\lib\\site-packages (from requests<3,>=2.21.0->tensorboard~=2.6->tensorflow) (4.0.0)\n",
      "Requirement already satisfied: idna<3,>=2.5 in c:\\users\\nikob\\anaconda3\\lib\\site-packages (from requests<3,>=2.21.0->tensorboard~=2.6->tensorflow) (2.10)\n",
      "Requirement already satisfied: oauthlib>=3.0.0 in c:\\users\\nikob\\anaconda3\\lib\\site-packages (from requests-oauthlib>=0.7.0->google-auth-oauthlib<0.5,>=0.4.1->tensorboard~=2.6->tensorflow) (3.1.1)\n",
      "Installing collected packages: markdown, grpcio, google-auth-oauthlib, absl-py, termcolor, tensorflow-estimator, tensorboard, opt-einsum, keras-preprocessing, h5py, google-pasta, gast, flatbuffers, clang, astunparse, tensorflow\n",
      "  Attempting uninstall: h5py\n",
      "    Found existing installation: h5py 3.2.1\n",
      "    Uninstalling h5py-3.2.1:\n",
      "      Successfully uninstalled h5py-3.2.1\n",
      "Successfully installed absl-py-0.13.0 astunparse-1.6.3 clang-5.0 flatbuffers-1.12 gast-0.4.0 google-auth-oauthlib-0.4.6 google-pasta-0.2.0 grpcio-1.40.0 h5py-3.1.0 keras-preprocessing-1.1.2 markdown-3.3.4 opt-einsum-3.3.0 tensorboard-2.6.0 tensorflow-2.6.0 tensorflow-estimator-2.6.0 termcolor-1.1.0\n"
     ]
    }
   ],
   "source": [
    "pip install tensorflow"
   ]
  },
  {
   "cell_type": "code",
   "execution_count": null,
   "id": "4a2f5ba2",
   "metadata": {},
   "outputs": [],
   "source": [
    "# Create stacked LSTM model\n",
    "from tensorflow.keras.models import Sequential\n",
    "from tensorflow.keras.layers import Dense\n",
    "from tensorflow.keras.layers import LSTM"
   ]
  },
  {
   "cell_type": "code",
   "execution_count": 56,
   "id": "7e78e5b6",
   "metadata": {},
   "outputs": [],
   "source": [
    "model = Sequential()\n",
    "model.add(LSTM(50,return_sequences=True, input_shape=(100,1)))\n",
    "model.add(LSTM(50, return_sequences=True))\n",
    "model.add(LSTM(50))\n",
    "model.add(Dense(1))\n",
    "model.compile(loss='mean_squared_error', optimizer='adam')\n"
   ]
  },
  {
   "cell_type": "code",
   "execution_count": 57,
   "id": "d0e30975",
   "metadata": {},
   "outputs": [
    {
     "name": "stdout",
     "output_type": "stream",
     "text": [
      "Model: \"sequential_3\"\n",
      "_________________________________________________________________\n",
      "Layer (type)                 Output Shape              Param #   \n",
      "=================================================================\n",
      "lstm_2 (LSTM)                (None, 100, 50)           10400     \n",
      "_________________________________________________________________\n",
      "lstm_3 (LSTM)                (None, 100, 50)           20200     \n",
      "_________________________________________________________________\n",
      "lstm_4 (LSTM)                (None, 50)                20200     \n",
      "_________________________________________________________________\n",
      "dense (Dense)                (None, 1)                 51        \n",
      "=================================================================\n",
      "Total params: 50,851\n",
      "Trainable params: 50,851\n",
      "Non-trainable params: 0\n",
      "_________________________________________________________________\n"
     ]
    }
   ],
   "source": [
    "model.summary()"
   ]
  },
  {
   "cell_type": "code",
   "execution_count": 58,
   "id": "8774a827",
   "metadata": {},
   "outputs": [
    {
     "name": "stdout",
     "output_type": "stream",
     "text": [
      "Epoch 1/100\n",
      "WARNING:tensorflow:Model was constructed with shape (None, 100, 1) for input KerasTensor(type_spec=TensorSpec(shape=(None, 100, 1), dtype=tf.float32, name='lstm_2_input'), name='lstm_2_input', description=\"created by layer 'lstm_2_input'\"), but it was called on an input with incompatible shape (None, 30, 1).\n",
      "WARNING:tensorflow:Model was constructed with shape (None, 100, 1) for input KerasTensor(type_spec=TensorSpec(shape=(None, 100, 1), dtype=tf.float32, name='lstm_2_input'), name='lstm_2_input', description=\"created by layer 'lstm_2_input'\"), but it was called on an input with incompatible shape (None, 30, 1).\n",
      "3/3 [==============================] - ETA: 0s - loss: 0.2378WARNING:tensorflow:Model was constructed with shape (None, 100, 1) for input KerasTensor(type_spec=TensorSpec(shape=(None, 100, 1), dtype=tf.float32, name='lstm_2_input'), name='lstm_2_input', description=\"created by layer 'lstm_2_input'\"), but it was called on an input with incompatible shape (None, 30, 1).\n",
      "3/3 [==============================] - 14s 1s/step - loss: 0.2378 - val_loss: 0.2663\n",
      "Epoch 2/100\n",
      "3/3 [==============================] - 1s 311ms/step - loss: 0.0853 - val_loss: 0.0037\n",
      "Epoch 3/100\n",
      "3/3 [==============================] - 0s 144ms/step - loss: 0.0305 - val_loss: 0.0458\n",
      "Epoch 4/100\n",
      "3/3 [==============================] - 1s 250ms/step - loss: 0.0356 - val_loss: 0.0052\n",
      "Epoch 5/100\n",
      "3/3 [==============================] - 1s 334ms/step - loss: 0.0152 - val_loss: 0.0527\n",
      "Epoch 6/100\n",
      "3/3 [==============================] - 1s 310ms/step - loss: 0.0256 - val_loss: 0.0548\n",
      "Epoch 7/100\n",
      "3/3 [==============================] - 1s 318ms/step - loss: 0.0218 - val_loss: 0.0218\n",
      "Epoch 8/100\n",
      "3/3 [==============================] - 1s 273ms/step - loss: 0.0139 - val_loss: 0.0028\n",
      "Epoch 9/100\n",
      "3/3 [==============================] - 0s 105ms/step - loss: 0.0155 - val_loss: 0.0014\n",
      "Epoch 10/100\n",
      "3/3 [==============================] - 0s 101ms/step - loss: 0.0167 - val_loss: 0.0042\n",
      "Epoch 11/100\n",
      "3/3 [==============================] - 0s 110ms/step - loss: 0.0136 - val_loss: 0.0150\n",
      "Epoch 12/100\n",
      "3/3 [==============================] - 0s 106ms/step - loss: 0.0131 - val_loss: 0.0212\n",
      "Epoch 13/100\n",
      "3/3 [==============================] - 0s 116ms/step - loss: 0.0134 - val_loss: 0.0173\n",
      "Epoch 14/100\n",
      "3/3 [==============================] - 0s 100ms/step - loss: 0.0127 - val_loss: 0.0107\n",
      "Epoch 15/100\n",
      "3/3 [==============================] - 0s 112ms/step - loss: 0.0123 - val_loss: 0.0074\n",
      "Epoch 16/100\n",
      "3/3 [==============================] - 0s 102ms/step - loss: 0.0124 - val_loss: 0.0066\n",
      "Epoch 17/100\n",
      "3/3 [==============================] - 0s 102ms/step - loss: 0.0122 - val_loss: 0.0089\n",
      "Epoch 18/100\n",
      "3/3 [==============================] - 0s 121ms/step - loss: 0.0118 - val_loss: 0.0117\n",
      "Epoch 19/100\n",
      "3/3 [==============================] - 0s 98ms/step - loss: 0.0117 - val_loss: 0.0117\n",
      "Epoch 20/100\n",
      "3/3 [==============================] - 0s 108ms/step - loss: 0.0115 - val_loss: 0.0092\n",
      "Epoch 21/100\n",
      "3/3 [==============================] - 0s 110ms/step - loss: 0.0113 - val_loss: 0.0083\n",
      "Epoch 22/100\n",
      "3/3 [==============================] - 0s 118ms/step - loss: 0.0110 - val_loss: 0.0100\n",
      "Epoch 23/100\n",
      "3/3 [==============================] - 0s 111ms/step - loss: 0.0109 - val_loss: 0.0102\n",
      "Epoch 24/100\n",
      "3/3 [==============================] - 0s 108ms/step - loss: 0.0108 - val_loss: 0.0105\n",
      "Epoch 25/100\n",
      "3/3 [==============================] - 0s 113ms/step - loss: 0.0105 - val_loss: 0.0060\n",
      "Epoch 26/100\n",
      "3/3 [==============================] - 0s 132ms/step - loss: 0.0102 - val_loss: 0.0040\n",
      "Epoch 27/100\n",
      "3/3 [==============================] - 0s 124ms/step - loss: 0.0102 - val_loss: 0.0047\n",
      "Epoch 28/100\n",
      "3/3 [==============================] - 0s 140ms/step - loss: 0.0098 - val_loss: 0.0074\n",
      "Epoch 29/100\n",
      "3/3 [==============================] - 0s 110ms/step - loss: 0.0095 - val_loss: 0.0054\n",
      "Epoch 30/100\n",
      "3/3 [==============================] - 0s 111ms/step - loss: 0.0092 - val_loss: 0.0044\n",
      "Epoch 31/100\n",
      "3/3 [==============================] - 0s 82ms/step - loss: 0.0090 - val_loss: 0.0058\n",
      "Epoch 32/100\n",
      "3/3 [==============================] - 0s 116ms/step - loss: 0.0087 - val_loss: 0.0062\n",
      "Epoch 33/100\n",
      "3/3 [==============================] - 0s 125ms/step - loss: 0.0085 - val_loss: 0.0047\n",
      "Epoch 34/100\n",
      "3/3 [==============================] - 0s 110ms/step - loss: 0.0083 - val_loss: 0.0058\n",
      "Epoch 35/100\n",
      "3/3 [==============================] - 0s 103ms/step - loss: 0.0080 - val_loss: 0.0081\n",
      "Epoch 36/100\n",
      "3/3 [==============================] - 0s 101ms/step - loss: 0.0078 - val_loss: 0.0069\n",
      "Epoch 37/100\n",
      "3/3 [==============================] - 0s 112ms/step - loss: 0.0076 - val_loss: 0.0026\n",
      "Epoch 38/100\n",
      "3/3 [==============================] - 0s 117ms/step - loss: 0.0078 - val_loss: 0.0052\n",
      "Epoch 39/100\n",
      "3/3 [==============================] - 0s 107ms/step - loss: 0.0073 - val_loss: 0.0122\n",
      "Epoch 40/100\n",
      "3/3 [==============================] - 0s 117ms/step - loss: 0.0075 - val_loss: 0.0016\n",
      "Epoch 41/100\n",
      "3/3 [==============================] - 0s 110ms/step - loss: 0.0077 - val_loss: 0.0027\n",
      "Epoch 42/100\n",
      "3/3 [==============================] - 0s 105ms/step - loss: 0.0067 - val_loss: 0.0118\n",
      "Epoch 43/100\n",
      "3/3 [==============================] - 0s 110ms/step - loss: 0.0075 - val_loss: 0.0023\n",
      "Epoch 44/100\n",
      "3/3 [==============================] - 0s 113ms/step - loss: 0.0074 - val_loss: 0.0023\n",
      "Epoch 45/100\n",
      "3/3 [==============================] - 0s 104ms/step - loss: 0.0066 - val_loss: 0.0094\n",
      "Epoch 46/100\n",
      "3/3 [==============================] - 0s 99ms/step - loss: 0.0069 - val_loss: 0.0015\n",
      "Epoch 47/100\n",
      "3/3 [==============================] - 0s 113ms/step - loss: 0.0071 - val_loss: 0.0014\n",
      "Epoch 48/100\n",
      "3/3 [==============================] - 0s 111ms/step - loss: 0.0065 - val_loss: 0.0070\n",
      "Epoch 49/100\n",
      "3/3 [==============================] - 0s 88ms/step - loss: 0.0065 - val_loss: 0.0049\n",
      "Epoch 50/100\n",
      "3/3 [==============================] - 0s 100ms/step - loss: 0.0061 - val_loss: 0.0024\n",
      "Epoch 51/100\n",
      "3/3 [==============================] - 0s 100ms/step - loss: 0.0059 - val_loss: 0.0021\n",
      "Epoch 52/100\n",
      "3/3 [==============================] - 0s 97ms/step - loss: 0.0059 - val_loss: 0.0026\n",
      "Epoch 53/100\n",
      "3/3 [==============================] - 0s 116ms/step - loss: 0.0058 - val_loss: 0.0016\n",
      "Epoch 54/100\n",
      "3/3 [==============================] - 0s 99ms/step - loss: 0.0056 - val_loss: 0.0027\n",
      "Epoch 55/100\n",
      "3/3 [==============================] - 0s 100ms/step - loss: 0.0055 - val_loss: 0.0016\n",
      "Epoch 56/100\n",
      "3/3 [==============================] - 0s 112ms/step - loss: 0.0053 - val_loss: 0.0024\n",
      "Epoch 57/100\n",
      "3/3 [==============================] - 0s 110ms/step - loss: 0.0054 - val_loss: 0.0020\n",
      "Epoch 58/100\n",
      "3/3 [==============================] - 0s 105ms/step - loss: 0.0058 - val_loss: 0.0014\n",
      "Epoch 59/100\n",
      "3/3 [==============================] - 0s 106ms/step - loss: 0.0050 - val_loss: 0.0043\n",
      "Epoch 60/100\n",
      "3/3 [==============================] - 0s 89ms/step - loss: 0.0054 - val_loss: 0.0032\n",
      "Epoch 61/100\n",
      "3/3 [==============================] - 0s 116ms/step - loss: 0.0050 - val_loss: 0.0015\n",
      "Epoch 62/100\n",
      "3/3 [==============================] - 0s 116ms/step - loss: 0.0049 - val_loss: 0.0014\n",
      "Epoch 63/100\n",
      "3/3 [==============================] - 0s 93ms/step - loss: 0.0046 - val_loss: 0.0024\n",
      "Epoch 64/100\n",
      "3/3 [==============================] - 0s 126ms/step - loss: 0.0044 - val_loss: 0.0015\n",
      "Epoch 65/100\n",
      "3/3 [==============================] - 0s 115ms/step - loss: 0.0046 - val_loss: 0.0021\n",
      "Epoch 66/100\n",
      "3/3 [==============================] - 0s 105ms/step - loss: 0.0043 - val_loss: 0.0019\n",
      "Epoch 67/100\n",
      "3/3 [==============================] - 0s 109ms/step - loss: 0.0042 - val_loss: 0.0049\n",
      "Epoch 68/100\n",
      "3/3 [==============================] - 0s 107ms/step - loss: 0.0043 - val_loss: 0.0018\n",
      "Epoch 69/100\n",
      "3/3 [==============================] - 0s 149ms/step - loss: 0.0042 - val_loss: 0.0053\n",
      "Epoch 70/100\n",
      "3/3 [==============================] - 0s 120ms/step - loss: 0.0043 - val_loss: 0.0039\n",
      "Epoch 71/100\n",
      "3/3 [==============================] - 0s 111ms/step - loss: 0.0041 - val_loss: 0.0045\n",
      "Epoch 72/100\n",
      "3/3 [==============================] - 0s 113ms/step - loss: 0.0039 - val_loss: 0.0071\n",
      "Epoch 73/100\n"
     ]
    },
    {
     "name": "stdout",
     "output_type": "stream",
     "text": [
      "3/3 [==============================] - 0s 107ms/step - loss: 0.0040 - val_loss: 0.0086\n",
      "Epoch 74/100\n",
      "3/3 [==============================] - 0s 105ms/step - loss: 0.0042 - val_loss: 0.0032\n",
      "Epoch 75/100\n",
      "3/3 [==============================] - 0s 100ms/step - loss: 0.0041 - val_loss: 0.0082\n",
      "Epoch 76/100\n",
      "3/3 [==============================] - 0s 112ms/step - loss: 0.0041 - val_loss: 0.0040\n",
      "Epoch 77/100\n",
      "3/3 [==============================] - 0s 98ms/step - loss: 0.0040 - val_loss: 0.0078\n",
      "Epoch 78/100\n",
      "3/3 [==============================] - 0s 109ms/step - loss: 0.0039 - val_loss: 0.0046\n",
      "Epoch 79/100\n",
      "3/3 [==============================] - 0s 115ms/step - loss: 0.0038 - val_loss: 0.0030\n",
      "Epoch 80/100\n",
      "3/3 [==============================] - 0s 106ms/step - loss: 0.0041 - val_loss: 0.0027\n",
      "Epoch 81/100\n",
      "3/3 [==============================] - 0s 112ms/step - loss: 0.0047 - val_loss: 0.0088\n",
      "Epoch 82/100\n",
      "3/3 [==============================] - 0s 116ms/step - loss: 0.0049 - val_loss: 0.0021\n",
      "Epoch 83/100\n",
      "3/3 [==============================] - 0s 113ms/step - loss: 0.0050 - val_loss: 0.0031\n",
      "Epoch 84/100\n",
      "3/3 [==============================] - 0s 122ms/step - loss: 0.0049 - val_loss: 0.0082\n",
      "Epoch 85/100\n",
      "3/3 [==============================] - 0s 108ms/step - loss: 0.0038 - val_loss: 0.0043\n",
      "Epoch 86/100\n",
      "3/3 [==============================] - 0s 113ms/step - loss: 0.0056 - val_loss: 0.0066\n",
      "Epoch 87/100\n",
      "3/3 [==============================] - 0s 105ms/step - loss: 0.0049 - val_loss: 0.0017\n",
      "Epoch 88/100\n",
      "3/3 [==============================] - 0s 110ms/step - loss: 0.0041 - val_loss: 0.0021\n",
      "Epoch 89/100\n",
      "3/3 [==============================] - 0s 108ms/step - loss: 0.0044 - val_loss: 0.0066\n",
      "Epoch 90/100\n",
      "3/3 [==============================] - 0s 113ms/step - loss: 0.0042 - val_loss: 0.0014\n",
      "Epoch 91/100\n",
      "3/3 [==============================] - 0s 96ms/step - loss: 0.0044 - val_loss: 0.0014\n",
      "Epoch 92/100\n",
      "3/3 [==============================] - 0s 99ms/step - loss: 0.0039 - val_loss: 0.0087\n",
      "Epoch 93/100\n",
      "3/3 [==============================] - 0s 102ms/step - loss: 0.0043 - val_loss: 0.0015\n",
      "Epoch 94/100\n",
      "3/3 [==============================] - 0s 95ms/step - loss: 0.0046 - val_loss: 0.0019\n",
      "Epoch 95/100\n",
      "3/3 [==============================] - 0s 111ms/step - loss: 0.0038 - val_loss: 0.0070\n",
      "Epoch 96/100\n",
      "3/3 [==============================] - 0s 107ms/step - loss: 0.0043 - val_loss: 0.0016\n",
      "Epoch 97/100\n",
      "3/3 [==============================] - 0s 111ms/step - loss: 0.0037 - val_loss: 0.0036\n",
      "Epoch 98/100\n",
      "3/3 [==============================] - 0s 118ms/step - loss: 0.0036 - val_loss: 0.0020\n",
      "Epoch 99/100\n",
      "3/3 [==============================] - 0s 103ms/step - loss: 0.0036 - val_loss: 0.0027\n",
      "Epoch 100/100\n",
      "3/3 [==============================] - 0s 90ms/step - loss: 0.0036 - val_loss: 0.0027\n"
     ]
    },
    {
     "data": {
      "text/plain": [
       "<keras.callbacks.History at 0x1f8db76b2e0>"
      ]
     },
     "execution_count": 58,
     "metadata": {},
     "output_type": "execute_result"
    }
   ],
   "source": [
    "model.fit(X_train,y_train,validation_data=(X_test,y_test), epochs=100,batch_size=64, verbose=1)"
   ]
  },
  {
   "cell_type": "code",
   "execution_count": 59,
   "id": "cd98c926",
   "metadata": {},
   "outputs": [],
   "source": [
    "import tensorflow as tf"
   ]
  },
  {
   "cell_type": "code",
   "execution_count": 60,
   "id": "90dfb756",
   "metadata": {},
   "outputs": [
    {
     "data": {
      "text/plain": [
       "'2.6.0'"
      ]
     },
     "execution_count": 60,
     "metadata": {},
     "output_type": "execute_result"
    }
   ],
   "source": [
    "tf.__version__"
   ]
  },
  {
   "cell_type": "markdown",
   "id": "3f0c5edc",
   "metadata": {},
   "source": [
    "****4. Predict Test Data and Plot****"
   ]
  },
  {
   "cell_type": "code",
   "execution_count": 62,
   "id": "a96f357c",
   "metadata": {},
   "outputs": [
    {
     "name": "stdout",
     "output_type": "stream",
     "text": [
      "WARNING:tensorflow:Model was constructed with shape (None, 100, 1) for input KerasTensor(type_spec=TensorSpec(shape=(None, 100, 1), dtype=tf.float32, name='lstm_2_input'), name='lstm_2_input', description=\"created by layer 'lstm_2_input'\"), but it was called on an input with incompatible shape (None, 30, 1).\n"
     ]
    }
   ],
   "source": [
    "# predict and check performance metrics\n",
    "train_predict = model.predict(X_train)\n",
    "test_predict = model.predict(X_test)"
   ]
  },
  {
   "cell_type": "code",
   "execution_count": 65,
   "id": "3f87f027",
   "metadata": {},
   "outputs": [],
   "source": [
    "# Reverse Transform data\n",
    "train_predict = scaler.inverse_transform(train_predict)\n",
    "test_predict = scaler.inverse_transform(test_predict)"
   ]
  },
  {
   "cell_type": "code",
   "execution_count": 66,
   "id": "fdf03e6e",
   "metadata": {},
   "outputs": [
    {
     "data": {
      "text/plain": [
       "98.02886682721359"
      ]
     },
     "execution_count": 66,
     "metadata": {},
     "output_type": "execute_result"
    }
   ],
   "source": [
    "# Calculate RMSE performance metrics\n",
    "import math\n",
    "from sklearn.metrics import mean_squared_error\n",
    "math.sqrt(mean_squared_error(y_train, train_predict))"
   ]
  },
  {
   "cell_type": "code",
   "execution_count": 67,
   "id": "f6475dde",
   "metadata": {},
   "outputs": [
    {
     "data": {
      "text/plain": [
       "116.35448587140013"
      ]
     },
     "execution_count": 67,
     "metadata": {},
     "output_type": "execute_result"
    }
   ],
   "source": [
    "# Test data RMSE\n",
    "math.sqrt(mean_squared_error(y_test, test_predict))"
   ]
  },
  {
   "cell_type": "code",
   "execution_count": 68,
   "id": "a691b58e",
   "metadata": {},
   "outputs": [
    {
     "data": {
      "image/png": "[encoded data removed]",
      "text/plain": [
       "<Figure size 432x288 with 1 Axes>"
      ]
     },
     "metadata": {
      "needs_background": "light"
     },
     "output_type": "display_data"
    }
   ],
   "source": [
    "# Plotting\n",
    "\n",
    "# shift train predictions for plot\n",
    "look_back = 30\n",
    "trainPredictPlot = np.empty_like(close_df)\n",
    "trainPredictPlot[:, :] = np.nan\n",
    "trainPredictPlot[look_back:len(train_predict)+look_back, :] = train_predict\n",
    "\n",
    "#shift test preidcitons for plot\n",
    "testPredictPlot = np.empty_like(close_df)\n",
    "testPredictPlot[:, :] = np.nan\n",
    "testPredictPlot[len(train_predict)+(look_back*2)+1:len(close_df)-1,:] = test_predict\n",
    "\n",
    "#plot baseline and predictions\n",
    "plt.plot(scaler.inverse_transform(close_df))\n",
    "plt.plot(trainPredictPlot)\n",
    "plt.plot(testPredictPlot)\n",
    "plt.show()"
   ]
  },
  {
   "cell_type": "markdown",
   "id": "a1e16e5d",
   "metadata": {},
   "source": [
    "****5. Predict next 30 days and Plot****"
   ]
  },
  {
   "cell_type": "code",
   "execution_count": 69,
   "id": "0e61873c",
   "metadata": {},
   "outputs": [
    {
     "data": {
      "text/plain": [
       "76"
      ]
     },
     "execution_count": 69,
     "metadata": {},
     "output_type": "execute_result"
    }
   ],
   "source": [
    "len(test_data)"
   ]
  },
  {
   "cell_type": "code",
   "execution_count": 70,
   "id": "fa9751e3",
   "metadata": {},
   "outputs": [
    {
     "data": {
      "text/plain": [
       "(1, 30)"
      ]
     },
     "execution_count": 70,
     "metadata": {},
     "output_type": "execute_result"
    }
   ],
   "source": [
    "x_input = test_data[46:].reshape(1,-1)\n",
    "x_input.shape"
   ]
  },
  {
   "cell_type": "code",
   "execution_count": 71,
   "id": "e2dcc9e3",
   "metadata": {},
   "outputs": [],
   "source": [
    "temp_input = list(x_input)\n",
    "temp_input = temp_input[0].tolist()"
   ]
  },
  {
   "cell_type": "code",
   "execution_count": 72,
   "id": "82da2cc4",
   "metadata": {},
   "outputs": [
    {
     "data": {
      "text/plain": [
       "[0.8742435253920307,\n",
       " 0.8545763344124242,\n",
       " 0.8494705096144388,\n",
       " 0.8233737229599316,\n",
       " 0.8645991602457919,\n",
       " 0.8840772059801743,\n",
       " 0.8712178822551748,\n",
       " 0.8532526013569934,\n",
       " 0.8878592788119861,\n",
       " 0.8791603562307313,\n",
       " 0.8842663512253983,\n",
       " 0.867057500022173,\n",
       " 0.8473903090425665,\n",
       " 0.7963313613652439,\n",
       " 0.7889561907501621,\n",
       " 0.7936838763436391,\n",
       " 0.8072994784776557,\n",
       " 0.8163767104601005,\n",
       " 0.8099471147851993,\n",
       " 0.7719364847921604,\n",
       " 0.7931164216972251,\n",
       " 0.7719364847921604,\n",
       " 0.7912253852813191,\n",
       " 0.8379349378556129,\n",
       " 0.8296141733896092,\n",
       " 0.8080559270833545,\n",
       " 0.8012480598287479,\n",
       " 0.804462980586024,\n",
       " 0.7611573805497756,\n",
       " 0.6989410192288776]"
      ]
     },
     "execution_count": 72,
     "metadata": {},
     "output_type": "execute_result"
    }
   ],
   "source": [
    "temp_input"
   ]
  },
  {
   "cell_type": "code",
   "execution_count": 73,
   "id": "42224497",
   "metadata": {},
   "outputs": [
    {
     "name": "stdout",
     "output_type": "stream",
     "text": [
      "[0.83020335]\n",
      "31\n",
      "1 day input [0.85457633 0.84947051 0.82337372 0.86459916 0.88407721 0.87121788\n",
      " 0.8532526  0.88785928 0.87916036 0.88426635 0.8670575  0.84739031\n",
      " 0.79633136 0.78895619 0.79368388 0.80729948 0.81637671 0.80994711\n",
      " 0.77193648 0.79311642 0.77193648 0.79122539 0.83793494 0.82961417\n",
      " 0.80805593 0.80124806 0.80446298 0.76115738 0.69894102 0.83020335]\n",
      "1 day output [[0.8246583]]\n",
      "2 day input [0.84947051 0.82337372 0.86459916 0.88407721 0.87121788 0.8532526\n",
      " 0.88785928 0.87916036 0.88426635 0.8670575  0.84739031 0.79633136\n",
      " 0.78895619 0.79368388 0.80729948 0.81637671 0.80994711 0.77193648\n",
      " 0.79311642 0.77193648 0.79122539 0.83793494 0.82961417 0.80805593\n",
      " 0.80124806 0.80446298 0.76115738 0.69894102 0.83020335 0.82465827]\n",
      "2 day output [[0.82137674]]\n",
      "3 day input [0.82337372 0.86459916 0.88407721 0.87121788 0.8532526  0.88785928\n",
      " 0.87916036 0.88426635 0.8670575  0.84739031 0.79633136 0.78895619\n",
      " 0.79368388 0.80729948 0.81637671 0.80994711 0.77193648 0.79311642\n",
      " 0.77193648 0.79122539 0.83793494 0.82961417 0.80805593 0.80124806\n",
      " 0.80446298 0.76115738 0.69894102 0.83020335 0.82465827 0.82137674]\n",
      "3 day output [[0.8210737]]\n",
      "4 day input [0.86459916 0.88407721 0.87121788 0.8532526  0.88785928 0.87916036\n",
      " 0.88426635 0.8670575  0.84739031 0.79633136 0.78895619 0.79368388\n",
      " 0.80729948 0.81637671 0.80994711 0.77193648 0.79311642 0.77193648\n",
      " 0.79122539 0.83793494 0.82961417 0.80805593 0.80124806 0.80446298\n",
      " 0.76115738 0.69894102 0.83020335 0.82465827 0.82137674 0.82107371]\n",
      "4 day output [[0.8237058]]\n",
      "5 day input [0.88407721 0.87121788 0.8532526  0.88785928 0.87916036 0.88426635\n",
      " 0.8670575  0.84739031 0.79633136 0.78895619 0.79368388 0.80729948\n",
      " 0.81637671 0.80994711 0.77193648 0.79311642 0.77193648 0.79122539\n",
      " 0.83793494 0.82961417 0.80805593 0.80124806 0.80446298 0.76115738\n",
      " 0.69894102 0.83020335 0.82465827 0.82137674 0.82107371 0.82370579]\n",
      "5 day output [[0.82844406]]\n",
      "6 day input [0.87121788 0.8532526  0.88785928 0.87916036 0.88426635 0.8670575\n",
      " 0.84739031 0.79633136 0.78895619 0.79368388 0.80729948 0.81637671\n",
      " 0.80994711 0.77193648 0.79311642 0.77193648 0.79122539 0.83793494\n",
      " 0.82961417 0.80805593 0.80124806 0.80446298 0.76115738 0.69894102\n",
      " 0.83020335 0.82465827 0.82137674 0.82107371 0.82370579 0.82844406]\n",
      "6 day output [[0.83478314]]\n",
      "7 day input [0.8532526  0.88785928 0.87916036 0.88426635 0.8670575  0.84739031\n",
      " 0.79633136 0.78895619 0.79368388 0.80729948 0.81637671 0.80994711\n",
      " 0.77193648 0.79311642 0.77193648 0.79122539 0.83793494 0.82961417\n",
      " 0.80805593 0.80124806 0.80446298 0.76115738 0.69894102 0.83020335\n",
      " 0.82465827 0.82137674 0.82107371 0.82370579 0.82844406 0.83478314]\n",
      "7 day output [[0.84228224]]\n",
      "8 day input [0.88785928 0.87916036 0.88426635 0.8670575  0.84739031 0.79633136\n",
      " 0.78895619 0.79368388 0.80729948 0.81637671 0.80994711 0.77193648\n",
      " 0.79311642 0.77193648 0.79122539 0.83793494 0.82961417 0.80805593\n",
      " 0.80124806 0.80446298 0.76115738 0.69894102 0.83020335 0.82465827\n",
      " 0.82137674 0.82107371 0.82370579 0.82844406 0.83478314 0.84228224]\n",
      "8 day output [[0.8504935]]\n",
      "9 day input [0.87916036 0.88426635 0.8670575  0.84739031 0.79633136 0.78895619\n",
      " 0.79368388 0.80729948 0.81637671 0.80994711 0.77193648 0.79311642\n",
      " 0.77193648 0.79122539 0.83793494 0.82961417 0.80805593 0.80124806\n",
      " 0.80446298 0.76115738 0.69894102 0.83020335 0.82465827 0.82137674\n",
      " 0.82107371 0.82370579 0.82844406 0.83478314 0.84228224 0.85049349]\n",
      "9 day output [[0.8589092]]\n",
      "10 day input [0.88426635 0.8670575  0.84739031 0.79633136 0.78895619 0.79368388\n",
      " 0.80729948 0.81637671 0.80994711 0.77193648 0.79311642 0.77193648\n",
      " 0.79122539 0.83793494 0.82961417 0.80805593 0.80124806 0.80446298\n",
      " 0.76115738 0.69894102 0.83020335 0.82465827 0.82137674 0.82107371\n",
      " 0.82370579 0.82844406 0.83478314 0.84228224 0.85049349 0.85890919]\n",
      "10 day output [[0.86756873]]\n",
      "11 day input [0.8670575  0.84739031 0.79633136 0.78895619 0.79368388 0.80729948\n",
      " 0.81637671 0.80994711 0.77193648 0.79311642 0.77193648 0.79122539\n",
      " 0.83793494 0.82961417 0.80805593 0.80124806 0.80446298 0.76115738\n",
      " 0.69894102 0.83020335 0.82465827 0.82137674 0.82107371 0.82370579\n",
      " 0.82844406 0.83478314 0.84228224 0.85049349 0.85890919 0.86756873]\n",
      "11 day output [[0.87631524]]\n",
      "12 day input [0.84739031 0.79633136 0.78895619 0.79368388 0.80729948 0.81637671\n",
      " 0.80994711 0.77193648 0.79311642 0.77193648 0.79122539 0.83793494\n",
      " 0.82961417 0.80805593 0.80124806 0.80446298 0.76115738 0.69894102\n",
      " 0.83020335 0.82465827 0.82137674 0.82107371 0.82370579 0.82844406\n",
      " 0.83478314 0.84228224 0.85049349 0.85890919 0.86756873 0.87631524]\n",
      "12 day output [[0.8851973]]\n",
      "13 day input [0.79633136 0.78895619 0.79368388 0.80729948 0.81637671 0.80994711\n",
      " 0.77193648 0.79311642 0.77193648 0.79122539 0.83793494 0.82961417\n",
      " 0.80805593 0.80124806 0.80446298 0.76115738 0.69894102 0.83020335\n",
      " 0.82465827 0.82137674 0.82107371 0.82370579 0.82844406 0.83478314\n",
      " 0.84228224 0.85049349 0.85890919 0.86756873 0.87631524 0.88519728]\n",
      "13 day output [[0.89419043]]\n",
      "14 day input [0.78895619 0.79368388 0.80729948 0.81637671 0.80994711 0.77193648\n",
      " 0.79311642 0.77193648 0.79122539 0.83793494 0.82961417 0.80805593\n",
      " 0.80124806 0.80446298 0.76115738 0.69894102 0.83020335 0.82465827\n",
      " 0.82137674 0.82107371 0.82370579 0.82844406 0.83478314 0.84228224\n",
      " 0.85049349 0.85890919 0.86756873 0.87631524 0.88519728 0.89419043]\n",
      "14 day output [[0.9033935]]\n",
      "15 day input [0.79368388 0.80729948 0.81637671 0.80994711 0.77193648 0.79311642\n",
      " 0.77193648 0.79122539 0.83793494 0.82961417 0.80805593 0.80124806\n",
      " 0.80446298 0.76115738 0.69894102 0.83020335 0.82465827 0.82137674\n",
      " 0.82107371 0.82370579 0.82844406 0.83478314 0.84228224 0.85049349\n",
      " 0.85890919 0.86756873 0.87631524 0.88519728 0.89419043 0.90339351]\n",
      "15 day output [[0.9126061]]\n",
      "16 day input [0.80729948 0.81637671 0.80994711 0.77193648 0.79311642 0.77193648\n",
      " 0.79122539 0.83793494 0.82961417 0.80805593 0.80124806 0.80446298\n",
      " 0.76115738 0.69894102 0.83020335 0.82465827 0.82137674 0.82107371\n",
      " 0.82370579 0.82844406 0.83478314 0.84228224 0.85049349 0.85890919\n",
      " 0.86756873 0.87631524 0.88519728 0.89419043 0.90339351 0.91260612]\n",
      "16 day output [[0.9218201]]\n",
      "17 day input [0.81637671 0.80994711 0.77193648 0.79311642 0.77193648 0.79122539\n",
      " 0.83793494 0.82961417 0.80805593 0.80124806 0.80446298 0.76115738\n",
      " 0.69894102 0.83020335 0.82465827 0.82137674 0.82107371 0.82370579\n",
      " 0.82844406 0.83478314 0.84228224 0.85049349 0.85890919 0.86756873\n",
      " 0.87631524 0.88519728 0.89419043 0.90339351 0.91260612 0.9218201 ]\n",
      "17 day output [[0.93104804]]\n",
      "18 day input [0.80994711 0.77193648 0.79311642 0.77193648 0.79122539 0.83793494\n",
      " 0.82961417 0.80805593 0.80124806 0.80446298 0.76115738 0.69894102\n",
      " 0.83020335 0.82465827 0.82137674 0.82107371 0.82370579 0.82844406\n",
      " 0.83478314 0.84228224 0.85049349 0.85890919 0.86756873 0.87631524\n",
      " 0.88519728 0.89419043 0.90339351 0.91260612 0.9218201  0.93104804]\n",
      "18 day output [[0.94034827]]\n",
      "19 day input [0.77193648 0.79311642 0.77193648 0.79122539 0.83793494 0.82961417\n",
      " 0.80805593 0.80124806 0.80446298 0.76115738 0.69894102 0.83020335\n",
      " 0.82465827 0.82137674 0.82107371 0.82370579 0.82844406 0.83478314\n",
      " 0.84228224 0.85049349 0.85890919 0.86756873 0.87631524 0.88519728\n",
      " 0.89419043 0.90339351 0.91260612 0.9218201  0.93104804 0.94034827]\n",
      "19 day output [[0.9497953]]\n",
      "20 day input [0.79311642 0.77193648 0.79122539 0.83793494 0.82961417 0.80805593\n",
      " 0.80124806 0.80446298 0.76115738 0.69894102 0.83020335 0.82465827\n",
      " 0.82137674 0.82107371 0.82370579 0.82844406 0.83478314 0.84228224\n",
      " 0.85049349 0.85890919 0.86756873 0.87631524 0.88519728 0.89419043\n",
      " 0.90339351 0.91260612 0.9218201  0.93104804 0.94034827 0.94979531]\n",
      "20 day output [[0.9594926]]\n",
      "21 day input [0.77193648 0.79122539 0.83793494 0.82961417 0.80805593 0.80124806\n",
      " 0.80446298 0.76115738 0.69894102 0.83020335 0.82465827 0.82137674\n",
      " 0.82107371 0.82370579 0.82844406 0.83478314 0.84228224 0.85049349\n",
      " 0.85890919 0.86756873 0.87631524 0.88519728 0.89419043 0.90339351\n",
      " 0.91260612 0.9218201  0.93104804 0.94034827 0.94979531 0.95949262]\n",
      "21 day output [[0.969195]]\n",
      "22 day input [0.79122539 0.83793494 0.82961417 0.80805593 0.80124806 0.80446298\n",
      " 0.76115738 0.69894102 0.83020335 0.82465827 0.82137674 0.82107371\n",
      " 0.82370579 0.82844406 0.83478314 0.84228224 0.85049349 0.85890919\n",
      " 0.86756873 0.87631524 0.88519728 0.89419043 0.90339351 0.91260612\n",
      " 0.9218201  0.93104804 0.94034827 0.94979531 0.95949262 0.96919501]\n",
      "22 day output [[0.97909564]]\n",
      "23 day input [0.83793494 0.82961417 0.80805593 0.80124806 0.80446298 0.76115738\n",
      " 0.69894102 0.83020335 0.82465827 0.82137674 0.82107371 0.82370579\n",
      " 0.82844406 0.83478314 0.84228224 0.85049349 0.85890919 0.86756873\n",
      " 0.87631524 0.88519728 0.89419043 0.90339351 0.91260612 0.9218201\n",
      " 0.93104804 0.94034827 0.94979531 0.95949262 0.96919501 0.97909564]\n"
     ]
    },
    {
     "name": "stdout",
     "output_type": "stream",
     "text": [
      "23 day output [[0.98904437]]\n",
      "24 day input [0.82961417 0.80805593 0.80124806 0.80446298 0.76115738 0.69894102\n",
      " 0.83020335 0.82465827 0.82137674 0.82107371 0.82370579 0.82844406\n",
      " 0.83478314 0.84228224 0.85049349 0.85890919 0.86756873 0.87631524\n",
      " 0.88519728 0.89419043 0.90339351 0.91260612 0.9218201  0.93104804\n",
      " 0.94034827 0.94979531 0.95949262 0.96919501 0.97909564 0.98904437]\n",
      "24 day output [[0.9989944]]\n",
      "25 day input [0.80805593 0.80124806 0.80446298 0.76115738 0.69894102 0.83020335\n",
      " 0.82465827 0.82137674 0.82107371 0.82370579 0.82844406 0.83478314\n",
      " 0.84228224 0.85049349 0.85890919 0.86756873 0.87631524 0.88519728\n",
      " 0.89419043 0.90339351 0.91260612 0.9218201  0.93104804 0.94034827\n",
      " 0.94979531 0.95949262 0.96919501 0.97909564 0.98904437 0.99899441]\n",
      "25 day output [[1.0091854]]\n",
      "26 day input [0.80124806 0.80446298 0.76115738 0.69894102 0.83020335 0.82465827\n",
      " 0.82137674 0.82107371 0.82370579 0.82844406 0.83478314 0.84228224\n",
      " 0.85049349 0.85890919 0.86756873 0.87631524 0.88519728 0.89419043\n",
      " 0.90339351 0.91260612 0.9218201  0.93104804 0.94034827 0.94979531\n",
      " 0.95949262 0.96919501 0.97909564 0.98904437 0.99899441 1.00918543]\n",
      "26 day output [[1.0196346]]\n",
      "27 day input [0.80446298 0.76115738 0.69894102 0.83020335 0.82465827 0.82137674\n",
      " 0.82107371 0.82370579 0.82844406 0.83478314 0.84228224 0.85049349\n",
      " 0.85890919 0.86756873 0.87631524 0.88519728 0.89419043 0.90339351\n",
      " 0.91260612 0.9218201  0.93104804 0.94034827 0.94979531 0.95949262\n",
      " 0.96919501 0.97909564 0.98904437 0.99899441 1.00918543 1.0196346 ]\n",
      "27 day output [[1.0302634]]\n",
      "28 day input [0.76115738 0.69894102 0.83020335 0.82465827 0.82137674 0.82107371\n",
      " 0.82370579 0.82844406 0.83478314 0.84228224 0.85049349 0.85890919\n",
      " 0.86756873 0.87631524 0.88519728 0.89419043 0.90339351 0.91260612\n",
      " 0.9218201  0.93104804 0.94034827 0.94979531 0.95949262 0.96919501\n",
      " 0.97909564 0.98904437 0.99899441 1.00918543 1.0196346  1.03026342]\n",
      "28 day output [[1.0410416]]\n",
      "29 day input [0.69894102 0.83020335 0.82465827 0.82137674 0.82107371 0.82370579\n",
      " 0.82844406 0.83478314 0.84228224 0.85049349 0.85890919 0.86756873\n",
      " 0.87631524 0.88519728 0.89419043 0.90339351 0.91260612 0.9218201\n",
      " 0.93104804 0.94034827 0.94979531 0.95949262 0.96919501 0.97909564\n",
      " 0.98904437 0.99899441 1.00918543 1.0196346  1.03026342 1.04104161]\n",
      "29 day output [[1.052131]]\n",
      "[[0.8302033543586731], [0.8246582746505737], [0.8213767409324646], [0.8210737109184265], [0.823705792427063], [0.8284440636634827], [0.834783136844635], [0.842282235622406], [0.8504934906959534], [0.8589091897010803], [0.8675687313079834], [0.8763152360916138], [0.8851972818374634], [0.8941904306411743], [0.9033935070037842], [0.9126061201095581], [0.9218201041221619], [0.9310480356216431], [0.9403482675552368], [0.9497953057289124], [0.9594926238059998], [0.9691950082778931], [0.9790956377983093], [0.9890443682670593], [0.9989944100379944], [1.0091854333877563], [1.0196346044540405], [1.0302634239196777], [1.041041612625122], [1.0521310567855835]]\n"
     ]
    }
   ],
   "source": [
    "from numpy import array\n",
    "\n",
    "lst_output = []\n",
    "n_steps = 30\n",
    "i=0\n",
    "while(i<30):\n",
    "    \n",
    "    if(len(temp_input)>30):\n",
    "        #print(temp_input)\n",
    "        x_input = np.array(temp_input[1:])\n",
    "        print('{} day input {}'.format(i, x_input))\n",
    "        x_input = x_input.reshape(1,-1)\n",
    "        x_input = x_input.reshape((1, n_steps, 1))\n",
    "        #print(x_input)\n",
    "        yhat = model.predict(x_input, verbose=0)\n",
    "        print('{} day output {}'.format(i,yhat))\n",
    "        temp_input.extend(yhat[0].tolist())\n",
    "        temp_input = temp_input[1:]\n",
    "        #print(temp_input)\n",
    "        lst_output.extend(yhat.tolist())\n",
    "        i+=1\n",
    "    else:\n",
    "        x_input = x_input.reshape((1, n_steps, 1))\n",
    "        yhat = model.predict(x_input, verbose=0)\n",
    "        print(yhat[0])\n",
    "        temp_input.extend(yhat[0].tolist())\n",
    "        print(len(temp_input))\n",
    "        lst_output.extend(yhat.tolist())\n",
    "        i+=1\n",
    "        \n",
    "print(lst_output) "
   ]
  },
  {
   "cell_type": "code",
   "execution_count": 78,
   "id": "cf4391dd",
   "metadata": {},
   "outputs": [],
   "source": [
    "day_new = np.arange(1,31)\n",
    "day_pred = np.arange(31, 61)"
   ]
  },
  {
   "cell_type": "code",
   "execution_count": 75,
   "id": "743c4fa6",
   "metadata": {},
   "outputs": [],
   "source": [
    "import matplotlib.pyplot as plt"
   ]
  },
  {
   "cell_type": "code",
   "execution_count": 76,
   "id": "a74ea292",
   "metadata": {},
   "outputs": [
    {
     "data": {
      "text/plain": [
       "251"
      ]
     },
     "execution_count": 76,
     "metadata": {},
     "output_type": "execute_result"
    }
   ],
   "source": [
    "len(close_df)"
   ]
  },
  {
   "cell_type": "code",
   "execution_count": 80,
   "id": "4f47e251",
   "metadata": {},
   "outputs": [
    {
     "data": {
      "image/png": "[encoded data removed]",
      "text/plain": [
       "<Figure size 432x288 with 1 Axes>"
      ]
     },
     "metadata": {
      "needs_background": "light"
     },
     "output_type": "display_data"
    }
   ],
   "source": [
    "plt.plot(day_new, scaler.inverse_transform(close_df[221:]))\n",
    "plt.plot(day_pred, scaler.inverse_transform(lst_output))\n",
    "plt.show()"
   ]
  },
  {
   "cell_type": "code",
   "execution_count": 83,
   "id": "4a6d6e76",
   "metadata": {},
   "outputs": [
    {
     "data": {
      "text/plain": [
       "[<matplotlib.lines.Line2D at 0x1f8e682e430>]"
      ]
     },
     "execution_count": 83,
     "metadata": {},
     "output_type": "execute_result"
    },
    {
     "data": {
      "image/png": "[encoded data removed]",
      "text/plain": [
       "<Figure size 432x288 with 1 Axes>"
      ]
     },
     "metadata": {
      "needs_background": "light"
     },
     "output_type": "display_data"
    }
   ],
   "source": [
    "new_df = close_df.tolist()\n",
    "new_df.extend(lst_output)\n",
    "plt.plot(new_df)"
   ]
  },
  {
   "cell_type": "code",
   "execution_count": null,
   "id": "ae886a34",
   "metadata": {},
   "outputs": [],
   "source": []
  }
 ],
 "metadata": {
  "kernelspec": {
   "display_name": "Python 3",
   "language": "python",
   "name": "python3"
  },
  "language_info": {
   "codemirror_mode": {
    "name": "ipython",
    "version": 3
   },
   "file_extension": ".py",
   "mimetype": "text/x-python",
   "name": "python",
   "nbconvert_exporter": "python",
   "pygments_lexer": "ipython3",
   "version": "3.8.8"
  }
 },
 "nbformat": 4,
 "nbformat_minor": 5
}
